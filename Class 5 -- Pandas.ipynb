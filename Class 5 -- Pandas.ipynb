{
 "cells": [
  {
   "cell_type": "markdown",
   "id": "d738751e",
   "metadata": {},
   "source": [
    "# Strings and Functions"
   ]
  },
  {
   "cell_type": "markdown",
   "id": "2f6aa88d",
   "metadata": {},
   "source": [
    "### 1. Strings Concatenation"
   ]
  },
  {
   "cell_type": "code",
   "execution_count": 1,
   "id": "0f14ab9e",
   "metadata": {},
   "outputs": [
    {
     "name": "stdout",
     "output_type": "stream",
     "text": [
      "I am Arya I am from Bengaluru\n"
     ]
    }
   ],
   "source": [
    "name = \"I am Arya\"\n",
    "city = \"I am from Bengaluru\"\n",
    "\n",
    "info = name + \" \" +city\n",
    "print(info)"
   ]
  },
  {
   "cell_type": "code",
   "execution_count": 2,
   "id": "2cbca72a",
   "metadata": {},
   "outputs": [
    {
     "name": "stdout",
     "output_type": "stream",
     "text": [
      "I am Arya patel and I am from Bangalore\n"
     ]
    }
   ],
   "source": [
    "name = \"Arya\"\n",
    "last_name = \"patel\"\n",
    "city = \"Bangalore\"\n",
    "\n",
    "print(\"I am \"+ name + \" \" +last_name+ \" \" + \"and I am from \" + city)"
   ]
  },
  {
   "cell_type": "code",
   "execution_count": 3,
   "id": "90a9fb74",
   "metadata": {},
   "outputs": [
    {
     "name": "stdout",
     "output_type": "stream",
     "text": [
      "The student's name is arya, she is 22years old and she is in the 4\n"
     ]
    }
   ],
   "source": [
    "student = {\n",
    "    \"name\": \"arya\",\n",
    "    \"age\" : \"22\",\n",
    "    \"year\" : 4\n",
    "}\n",
    "info = \"The student's name is \" + student[\"name\"] + \", she is \" +student[\"age\"] + \"years old and she is in the \" + str(student[\"year\"])\n",
    "print(info)"
   ]
  },
  {
   "cell_type": "markdown",
   "id": "d4afa4fa",
   "metadata": {},
   "source": [
    "### Format{}"
   ]
  },
  {
   "cell_type": "code",
   "execution_count": 4,
   "id": "a7a5d072",
   "metadata": {},
   "outputs": [
    {
     "name": "stdout",
     "output_type": "stream",
     "text": [
      "The student's name is arya, she is 22 years old and she is in 4 years.\n"
     ]
    }
   ],
   "source": [
    "student = {\n",
    "    \"name\": \"arya\",\n",
    "    \"age\" : \"22\",\n",
    "    \"year\" : 4\n",
    "}\n",
    "info = \"The student's name is {}, she is {} years old and she is in {} years.\".format(student[\"name\"], student[\"age\"], student[\"year\"]) \n",
    "print(info)"
   ]
  },
  {
   "cell_type": "code",
   "execution_count": 5,
   "id": "f20486cf",
   "metadata": {},
   "outputs": [
    {
     "name": "stdout",
     "output_type": "stream",
     "text": [
      "Name-Arya patel and email id  patel_Arya@gamil.com\n"
     ]
    }
   ],
   "source": [
    "student = {\n",
    "    \"first_name\": \"Arya\",\n",
    "    \"last_name\": \"patel\"\n",
    "}\n",
    "\n",
    "info = \"Name-{0} {1} and email id  {1}_{0}@gamil.com\".format(student[\"first_name\"], student[\"last_name\"])\n",
    "print(info)"
   ]
  },
  {
   "cell_type": "code",
   "execution_count": 6,
   "id": "d13444e8",
   "metadata": {},
   "outputs": [
    {
     "name": "stdout",
     "output_type": "stream",
     "text": [
      "The studnet's name is Arya, his age is 22 and he is in 4th year\n"
     ]
    }
   ],
   "source": [
    "info = \"The studnet's name is {name}, his age is {age} and he is in {year}th year\".format(name=\"Arya\", age=\"22\", year=\"4\")\n",
    "print(info)"
   ]
  },
  {
   "cell_type": "markdown",
   "id": "92a5055a",
   "metadata": {},
   "source": [
    "### Fuctions"
   ]
  },
  {
   "cell_type": "code",
   "execution_count": 7,
   "id": "f15f7112",
   "metadata": {},
   "outputs": [],
   "source": [
    "def my_function():\n",
    "    print(\"Hello Python!\")"
   ]
  },
  {
   "cell_type": "code",
   "execution_count": 8,
   "id": "f4942594",
   "metadata": {},
   "outputs": [
    {
     "name": "stdout",
     "output_type": "stream",
     "text": [
      "Hello Python!\n"
     ]
    }
   ],
   "source": [
    "my_function()"
   ]
  },
  {
   "cell_type": "code",
   "execution_count": 9,
   "id": "9cd7ea56",
   "metadata": {},
   "outputs": [],
   "source": [
    "def my_function(first_name, last_name):\n",
    "    print(\"Student's name is {fname} {lname} and the email ID is {lname}_{fname}@gamail.com\".format(fname=first_name, lname=last_name))"
   ]
  },
  {
   "cell_type": "code",
   "execution_count": 10,
   "id": "f84a2b98",
   "metadata": {},
   "outputs": [
    {
     "name": "stdout",
     "output_type": "stream",
     "text": [
      "Student's name is Arya Patel and the email ID is Patel_Arya@gamail.com\n"
     ]
    }
   ],
   "source": [
    "my_function(\"Arya\", \"Patel\")"
   ]
  },
  {
   "cell_type": "code",
   "execution_count": 11,
   "id": "2a4fa868",
   "metadata": {},
   "outputs": [
    {
     "name": "stdout",
     "output_type": "stream",
     "text": [
      "Student's name is Binay Patel and the email ID is Patel_Binay@gamail.com\n"
     ]
    }
   ],
   "source": [
    "my_function(\"Binay\", \"Patel\")"
   ]
  },
  {
   "cell_type": "markdown",
   "id": "6670fc67",
   "metadata": {},
   "source": [
    "### Using *args"
   ]
  },
  {
   "cell_type": "code",
   "execution_count": 12,
   "id": "8ac4702b",
   "metadata": {},
   "outputs": [
    {
     "name": "stdout",
     "output_type": "stream",
     "text": [
      "The youngest child in the family is rahul\n"
     ]
    }
   ],
   "source": [
    "def second_function(*kid):\n",
    "    print(\"The youngest child in the family is \" + kid[2])\n",
    "    \n",
    "second_function(\"ravi\", \"akhil\", \"rahul\")"
   ]
  },
  {
   "cell_type": "code",
   "execution_count": 13,
   "id": "fe3eeaab",
   "metadata": {},
   "outputs": [
    {
     "name": "stdout",
     "output_type": "stream",
     "text": [
      "The youngest child in the family is ravi\n"
     ]
    }
   ],
   "source": [
    "def second_function(*kid):\n",
    "    print(\"The youngest child in the family is \" + kid[0])\n",
    "    \n",
    "second_function(\"ravi\", \"akhil\", \"rahul\")"
   ]
  },
  {
   "cell_type": "code",
   "execution_count": 14,
   "id": "e46ecc42",
   "metadata": {},
   "outputs": [
    {
     "name": "stdout",
     "output_type": "stream",
     "text": [
      "apple\n",
      "mango\n",
      "raspberries\n",
      "watermelon\n"
     ]
    }
   ],
   "source": [
    "fruits = [\"apple\", \"mango\", \"raspberries\", \"watermelon\"]  \n",
    "def fruits_I_like(list_of_fruits):\n",
    "    for x in list_of_fruits:\n",
    "        print(x)\n",
    "fruits_I_like(fruits)"
   ]
  },
  {
   "cell_type": "code",
   "execution_count": 15,
   "id": "d607b621",
   "metadata": {},
   "outputs": [
    {
     "name": "stdout",
     "output_type": "stream",
     "text": [
      "105\n",
      "10\n",
      "125\n",
      "100\n",
      "1110\n"
     ]
    }
   ],
   "source": [
    "def multiples_by_five(integer):\n",
    "    return 5 * integer\n",
    "\n",
    "print(multiples_by_five(21))\n",
    "print(multiples_by_five(2))\n",
    "print(multiples_by_five(25))\n",
    "print(multiples_by_five(20))\n",
    "print(multiples_by_five(222))"
   ]
  },
  {
   "cell_type": "markdown",
   "id": "1d557151",
   "metadata": {},
   "source": [
    "### Using keywords on a function"
   ]
  },
  {
   "cell_type": "code",
   "execution_count": 16,
   "id": "db0f9482",
   "metadata": {},
   "outputs": [
    {
     "name": "stdout",
     "output_type": "stream",
     "text": [
      "Youngest child is Rahul\n"
     ]
    }
   ],
   "source": [
    "def another_function(child1, child2, child3):\n",
    "    print(\"Youngest child is \" + child3)\n",
    "    \n",
    "another_function(child3 = \"Rahul\", child1 = \"Ravi\", child2 = \"akhil\")"
   ]
  },
  {
   "cell_type": "code",
   "execution_count": 17,
   "id": "975c39af",
   "metadata": {},
   "outputs": [
    {
     "name": "stdout",
     "output_type": "stream",
     "text": [
      "Youngest child is Rahul Middle child is akhil First child is Ravi\n"
     ]
    }
   ],
   "source": [
    "def another_function(child1, child2, child3):\n",
    "    print(\"Youngest child is \" + child3,\n",
    "          \"Middle child is \" + child2,\n",
    "          \"First child is \" + child1)\n",
    "    \n",
    "another_function(child3 = \"Rahul\", child1 = \"Ravi\", child2 = \"akhil\")"
   ]
  },
  {
   "cell_type": "markdown",
   "id": "ba2c3aa1",
   "metadata": {},
   "source": [
    "### Using **kwarg1"
   ]
  },
  {
   "cell_type": "code",
   "execution_count": 18,
   "id": "e0ce4025",
   "metadata": {},
   "outputs": [
    {
     "name": "stdout",
     "output_type": "stream",
     "text": [
      "The last naame is Siyanwal\n"
     ]
    }
   ],
   "source": [
    "def fifth_function(**kid):\n",
    "    print(\"The last naame is \" + kid[\"lname\"])\n",
    "fifth_function(fname = \"Rahul\", lname = \"Siyanwal\", mname = \" Sigh\")"
   ]
  },
  {
   "cell_type": "code",
   "execution_count": null,
   "id": "e3028009",
   "metadata": {},
   "outputs": [],
   "source": []
  }
 ],
 "metadata": {
  "kernelspec": {
   "display_name": "Python 3 (ipykernel)",
   "language": "python",
   "name": "python3"
  },
  "language_info": {
   "codemirror_mode": {
    "name": "ipython",
    "version": 3
   },
   "file_extension": ".py",
   "mimetype": "text/x-python",
   "name": "python",
   "nbconvert_exporter": "python",
   "pygments_lexer": "ipython3",
   "version": "3.7.16"
  }
 },
 "nbformat": 4,
 "nbformat_minor": 5
}
