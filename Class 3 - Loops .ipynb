{
 "cells": [
  {
   "cell_type": "markdown",
   "id": "6e54566b",
   "metadata": {},
   "source": [
    "#               Tuples  2/06/2024"
   ]
  },
  {
   "cell_type": "markdown",
   "id": "e0e6bbbd",
   "metadata": {},
   "source": [
    "A tuple is a collection of different data types which is ordered and unchangeable (immutable). Tuples are written with round brackets, (). Once tuple is created, we cannot change its values.\n",
    "\n",
    "tuple(): to create the empty tuple \n",
    "\n",
    "count(): to count the number of a specific item in a tuple \n",
    "\n",
    "index(): to find the index of a specificed item in a tuple"
   ]
  },
  {
   "cell_type": "code",
   "execution_count": 1,
   "id": "d4dbf313",
   "metadata": {},
   "outputs": [
    {
     "name": "stdout",
     "output_type": "stream",
     "text": [
      "()\n"
     ]
    }
   ],
   "source": [
    "my_tuple=tuple()\n",
    "print(my_tuple)"
   ]
  },
  {
   "cell_type": "code",
   "execution_count": 3,
   "id": "832e9748",
   "metadata": {},
   "outputs": [
    {
     "name": "stdout",
     "output_type": "stream",
     "text": [
      "(1, 7, 9)\n"
     ]
    }
   ],
   "source": [
    "my_new_tuple=(1,7,9)\n",
    "print(my_new_tuple)"
   ]
  },
  {
   "cell_type": "code",
   "execution_count": 4,
   "id": "b85ad49b",
   "metadata": {},
   "outputs": [
    {
     "data": {
      "text/plain": [
       "3"
      ]
     },
     "execution_count": 4,
     "metadata": {},
     "output_type": "execute_result"
    }
   ],
   "source": [
    "len(my_new_tuple)"
   ]
  },
  {
   "cell_type": "code",
   "execution_count": 5,
   "id": "6e0cc9ac",
   "metadata": {},
   "outputs": [
    {
     "data": {
      "text/plain": [
       "0"
      ]
     },
     "execution_count": 5,
     "metadata": {},
     "output_type": "execute_result"
    }
   ],
   "source": [
    "len(my_tuple)"
   ]
  },
  {
   "cell_type": "code",
   "execution_count": 11,
   "id": "be806964",
   "metadata": {},
   "outputs": [
    {
     "data": {
      "text/plain": [
       "1"
      ]
     },
     "execution_count": 11,
     "metadata": {},
     "output_type": "execute_result"
    }
   ],
   "source": [
    "my_new_tuple[0]"
   ]
  },
  {
   "cell_type": "code",
   "execution_count": 8,
   "id": "07800584",
   "metadata": {},
   "outputs": [
    {
     "data": {
      "text/plain": [
       "9"
      ]
     },
     "execution_count": 8,
     "metadata": {},
     "output_type": "execute_result"
    }
   ],
   "source": [
    "my_new_tuple[2]"
   ]
  },
  {
   "cell_type": "code",
   "execution_count": 9,
   "id": "98944be8",
   "metadata": {},
   "outputs": [
    {
     "ename": "TypeError",
     "evalue": "'tuple' object does not support item assignment",
     "output_type": "error",
     "traceback": [
      "\u001b[1;31m---------------------------------------------------------------------------\u001b[0m",
      "\u001b[1;31mTypeError\u001b[0m                                 Traceback (most recent call last)",
      "\u001b[1;32m~\\AppData\\Local\\Temp\\ipykernel_15816\\2241416012.py\u001b[0m in \u001b[0;36m<module>\u001b[1;34m\u001b[0m\n\u001b[1;32m----> 1\u001b[1;33m \u001b[0mmy_new_tuple\u001b[0m\u001b[1;33m[\u001b[0m\u001b[1;36m1\u001b[0m\u001b[1;33m]\u001b[0m\u001b[1;33m=\u001b[0m\u001b[1;36m95\u001b[0m\u001b[1;33m\u001b[0m\u001b[1;33m\u001b[0m\u001b[0m\n\u001b[0m",
      "\u001b[1;31mTypeError\u001b[0m: 'tuple' object does not support item assignment"
     ]
    }
   ],
   "source": [
    "my_new_tuple[1]=95"
   ]
  },
  {
   "cell_type": "markdown",
   "id": "117ad1bc",
   "metadata": {},
   "source": [
    "as said before tuple cannot be changed "
   ]
  },
  {
   "cell_type": "code",
   "execution_count": 10,
   "id": "d97d0e42",
   "metadata": {},
   "outputs": [
    {
     "ename": "TypeError",
     "evalue": "'tuple' object does not support item assignment",
     "output_type": "error",
     "traceback": [
      "\u001b[1;31m---------------------------------------------------------------------------\u001b[0m",
      "\u001b[1;31mTypeError\u001b[0m                                 Traceback (most recent call last)",
      "\u001b[1;32m~\\AppData\\Local\\Temp\\ipykernel_15816\\2745378009.py\u001b[0m in \u001b[0;36m<module>\u001b[1;34m\u001b[0m\n\u001b[1;32m----> 1\u001b[1;33m \u001b[0mmy_new_tuple\u001b[0m\u001b[1;33m[\u001b[0m\u001b[1;36m3\u001b[0m\u001b[1;33m]\u001b[0m\u001b[1;33m=\u001b[0m\u001b[1;36m89\u001b[0m\u001b[1;33m\u001b[0m\u001b[1;33m\u001b[0m\u001b[0m\n\u001b[0m",
      "\u001b[1;31mTypeError\u001b[0m: 'tuple' object does not support item assignment"
     ]
    }
   ],
   "source": [
    "my_new_tuple[3]=89"
   ]
  },
  {
   "cell_type": "markdown",
   "id": "ace0b2ae",
   "metadata": {},
   "source": [
    "so we cannot use add, insert, remove methods in a tuple because it is not modifiable (mutable). Unlike list, tuple has few methods."
   ]
  },
  {
   "cell_type": "markdown",
   "id": "5abe237d",
   "metadata": {},
   "source": [
    "### Slicing Tuples "
   ]
  },
  {
   "cell_type": "code",
   "execution_count": 12,
   "id": "59e80a2d",
   "metadata": {},
   "outputs": [
    {
     "data": {
      "text/plain": [
       "(1, 7, 9)"
      ]
     },
     "execution_count": 12,
     "metadata": {},
     "output_type": "execute_result"
    }
   ],
   "source": [
    "my_new_tuple[0:3]"
   ]
  },
  {
   "cell_type": "code",
   "execution_count": 13,
   "id": "a07f6138",
   "metadata": {},
   "outputs": [
    {
     "data": {
      "text/plain": [
       "1"
      ]
     },
     "execution_count": 13,
     "metadata": {},
     "output_type": "execute_result"
    }
   ],
   "source": [
    "my_new_tuple[0]"
   ]
  },
  {
   "cell_type": "code",
   "execution_count": 14,
   "id": "7619a9aa",
   "metadata": {},
   "outputs": [
    {
     "data": {
      "text/plain": [
       "(1, 7, 9)"
      ]
     },
     "execution_count": 14,
     "metadata": {},
     "output_type": "execute_result"
    }
   ],
   "source": [
    "my_new_tuple[0:]"
   ]
  },
  {
   "cell_type": "code",
   "execution_count": 15,
   "id": "c63801dd",
   "metadata": {},
   "outputs": [
    {
     "data": {
      "text/plain": [
       "(7, 9)"
      ]
     },
     "execution_count": 15,
     "metadata": {},
     "output_type": "execute_result"
    }
   ],
   "source": [
    "my_new_tuple[1:]"
   ]
  },
  {
   "cell_type": "code",
   "execution_count": 16,
   "id": "515a7ed8",
   "metadata": {},
   "outputs": [
    {
     "data": {
      "text/plain": [
       "(1, 7)"
      ]
     },
     "execution_count": 16,
     "metadata": {},
     "output_type": "execute_result"
    }
   ],
   "source": [
    "my_new_tuple[:2]"
   ]
  },
  {
   "cell_type": "code",
   "execution_count": 17,
   "id": "26651fe6",
   "metadata": {},
   "outputs": [
    {
     "data": {
      "text/plain": [
       "(9,)"
      ]
     },
     "execution_count": 17,
     "metadata": {},
     "output_type": "execute_result"
    }
   ],
   "source": [
    "my_new_tuple[-1:]"
   ]
  },
  {
   "cell_type": "code",
   "execution_count": 18,
   "id": "ff467817",
   "metadata": {},
   "outputs": [],
   "source": [
    "tpl=('item1', 'item2', 'item3', 'item4')"
   ]
  },
  {
   "cell_type": "code",
   "execution_count": 19,
   "id": "7eda2e88",
   "metadata": {},
   "outputs": [
    {
     "data": {
      "text/plain": [
       "('item1', 'item2', 'item3', 'item4')"
      ]
     },
     "execution_count": 19,
     "metadata": {},
     "output_type": "execute_result"
    }
   ],
   "source": [
    "tpl[-4:]"
   ]
  },
  {
   "cell_type": "code",
   "execution_count": 20,
   "id": "ba4b0e44",
   "metadata": {},
   "outputs": [
    {
     "data": {
      "text/plain": [
       "('item2', 'item3', 'item4')"
      ]
     },
     "execution_count": 20,
     "metadata": {},
     "output_type": "execute_result"
    }
   ],
   "source": [
    "tpl[-3:]"
   ]
  },
  {
   "cell_type": "code",
   "execution_count": 21,
   "id": "98429875",
   "metadata": {},
   "outputs": [
    {
     "data": {
      "text/plain": [
       "('item4',)"
      ]
     },
     "execution_count": 21,
     "metadata": {},
     "output_type": "execute_result"
    }
   ],
   "source": [
    "tpl[-1:]"
   ]
  },
  {
   "cell_type": "code",
   "execution_count": 22,
   "id": "d4f06a46",
   "metadata": {},
   "outputs": [
    {
     "data": {
      "text/plain": [
       "('item1', 'item2', 'item3')"
      ]
     },
     "execution_count": 22,
     "metadata": {},
     "output_type": "execute_result"
    }
   ],
   "source": [
    "tpl[:-1]"
   ]
  },
  {
   "cell_type": "code",
   "execution_count": 23,
   "id": "3b989698",
   "metadata": {},
   "outputs": [
    {
     "data": {
      "text/plain": [
       "('item1',)"
      ]
     },
     "execution_count": 23,
     "metadata": {},
     "output_type": "execute_result"
    }
   ],
   "source": [
    "tpl[:-3]"
   ]
  },
  {
   "cell_type": "code",
   "execution_count": 25,
   "id": "d168afbb",
   "metadata": {},
   "outputs": [
    {
     "data": {
      "text/plain": [
       "('item2', 'item3')"
      ]
     },
     "execution_count": 25,
     "metadata": {},
     "output_type": "execute_result"
    }
   ],
   "source": [
    "tpl[-3:-1]"
   ]
  },
  {
   "cell_type": "markdown",
   "id": "bf54c201",
   "metadata": {},
   "source": [
    "### Changing Tuples to Lists "
   ]
  },
  {
   "cell_type": "code",
   "execution_count": 26,
   "id": "0502404d",
   "metadata": {},
   "outputs": [
    {
     "data": {
      "text/plain": [
       "['item1', 'item2', 'item3', 'item4']"
      ]
     },
     "execution_count": 26,
     "metadata": {},
     "output_type": "execute_result"
    }
   ],
   "source": [
    "my_list=list(tpl)\n",
    "my_list"
   ]
  },
  {
   "cell_type": "markdown",
   "id": "83546818",
   "metadata": {},
   "source": [
    "### Check item in Tuple"
   ]
  },
  {
   "cell_type": "code",
   "execution_count": 27,
   "id": "2dc8cdfa",
   "metadata": {},
   "outputs": [
    {
     "data": {
      "text/plain": [
       "True"
      ]
     },
     "execution_count": 27,
     "metadata": {},
     "output_type": "execute_result"
    }
   ],
   "source": [
    "'item1' in tpl "
   ]
  },
  {
   "cell_type": "code",
   "execution_count": 28,
   "id": "69ab8209",
   "metadata": {},
   "outputs": [
    {
     "data": {
      "text/plain": [
       "False"
      ]
     },
     "execution_count": 28,
     "metadata": {},
     "output_type": "execute_result"
    }
   ],
   "source": [
    "'item5' in tpl "
   ]
  },
  {
   "cell_type": "markdown",
   "id": "74e4ace8",
   "metadata": {},
   "source": [
    "### Loop "
   ]
  },
  {
   "cell_type": "markdown",
   "id": "99bb470c",
   "metadata": {},
   "source": [
    "1. While \n",
    "\n",
    "2. for "
   ]
  },
  {
   "cell_type": "markdown",
   "id": "e3eb4a93",
   "metadata": {},
   "source": [
    "while condition:\n",
    "    \n",
    "    code goes here\n",
    "    \n",
    " else:\n",
    " \n",
    "    code goes here"
   ]
  },
  {
   "cell_type": "code",
   "execution_count": 38,
   "id": "21869794",
   "metadata": {},
   "outputs": [
    {
     "name": "stdout",
     "output_type": "stream",
     "text": [
      "Anything\n",
      "Anything\n",
      "Anything\n",
      "Anything\n",
      "Anything\n",
      "Nothing\n"
     ]
    }
   ],
   "source": [
    "count=0\n",
    "while count<5:\n",
    "    print(\"Anything\")\n",
    "    count=count+1\n",
    "else:\n",
    "    print(\"Nothing\")"
   ]
  },
  {
   "cell_type": "markdown",
   "id": "b160c218",
   "metadata": {},
   "source": [
    "### Break"
   ]
  },
  {
   "cell_type": "code",
   "execution_count": 39,
   "id": "5893d30e",
   "metadata": {},
   "outputs": [
    {
     "name": "stdout",
     "output_type": "stream",
     "text": [
      "Anything\n"
     ]
    }
   ],
   "source": [
    "count=0\n",
    "while count<5:\n",
    "    print(\"Anything\")\n",
    "    count=count+1\n",
    "    break"
   ]
  },
  {
   "cell_type": "code",
   "execution_count": 49,
   "id": "b1c303f7",
   "metadata": {},
   "outputs": [
    {
     "name": "stdout",
     "output_type": "stream",
     "text": [
      "Anything\n",
      "Anything\n",
      "Anything\n"
     ]
    }
   ],
   "source": [
    "count=0\n",
    "while count<5:\n",
    "    print(\"Anything\")\n",
    "    count=count+1\n",
    "    if count==3:\n",
    "        break"
   ]
  },
  {
   "cell_type": "markdown",
   "id": "44cebd2b",
   "metadata": {},
   "source": [
    "Continue: with the continue statement we can skip the current iteration, and continue with the next:"
   ]
  },
  {
   "cell_type": "code",
   "execution_count": 51,
   "id": "40608e92",
   "metadata": {},
   "outputs": [
    {
     "name": "stdout",
     "output_type": "stream",
     "text": [
      "0\n",
      "1\n",
      "2\n",
      "4\n"
     ]
    }
   ],
   "source": [
    "count=0\n",
    "while count<5:\n",
    "    if count==3:\n",
    "        count=count+1\n",
    "        continue\n",
    "    print(count)\n",
    "    count=count+1"
   ]
  },
  {
   "cell_type": "code",
   "execution_count": 52,
   "id": "c533d367",
   "metadata": {},
   "outputs": [
    {
     "name": "stdout",
     "output_type": "stream",
     "text": [
      "0\n",
      "1\n",
      "2\n",
      "4\n"
     ]
    }
   ],
   "source": [
    "count=0\n",
    "while count<5:\n",
    "    if count==3:\n",
    "        count=count+1\n",
    "    print(count)\n",
    "    count=count+1"
   ]
  },
  {
   "cell_type": "markdown",
   "id": "aea87906",
   "metadata": {},
   "source": [
    "### For Loop"
   ]
  },
  {
   "cell_type": "code",
   "execution_count": 53,
   "id": "51bd45c7",
   "metadata": {},
   "outputs": [
    {
     "name": "stdout",
     "output_type": "stream",
     "text": [
      "0\n",
      "1\n",
      "2\n",
      "3\n",
      "4\n"
     ]
    }
   ],
   "source": [
    "num_list=[0,1,2,3,4]\n",
    "for number in num_list:\n",
    "    print(number)"
   ]
  },
  {
   "cell_type": "code",
   "execution_count": 54,
   "id": "5cfbffd1",
   "metadata": {},
   "outputs": [
    {
     "name": "stdout",
     "output_type": "stream",
     "text": [
      "A\n",
      "r\n",
      "y\n",
      "a\n"
     ]
    }
   ],
   "source": [
    "name=\"Arya\"\n",
    "for letter in name:\n",
    "    print(letter)"
   ]
  },
  {
   "cell_type": "code",
   "execution_count": 55,
   "id": "02695b33",
   "metadata": {},
   "outputs": [
    {
     "data": {
      "text/plain": [
       "'A'"
      ]
     },
     "execution_count": 55,
     "metadata": {},
     "output_type": "execute_result"
    }
   ],
   "source": [
    "name[0]"
   ]
  },
  {
   "cell_type": "code",
   "execution_count": 57,
   "id": "cddf852b",
   "metadata": {},
   "outputs": [
    {
     "data": {
      "text/plain": [
       "'y'"
      ]
     },
     "execution_count": 57,
     "metadata": {},
     "output_type": "execute_result"
    }
   ],
   "source": [
    "name[2]"
   ]
  },
  {
   "cell_type": "code",
   "execution_count": 58,
   "id": "b1de7692",
   "metadata": {},
   "outputs": [
    {
     "name": "stdout",
     "output_type": "stream",
     "text": [
      "1\n",
      "5\n",
      "8\n",
      "15\n"
     ]
    }
   ],
   "source": [
    "number=(1,5,8,15)\n",
    "for i in number:\n",
    "    print(i)"
   ]
  },
  {
   "cell_type": "code",
   "execution_count": 62,
   "id": "5ad3313e",
   "metadata": {},
   "outputs": [
    {
     "name": "stdout",
     "output_type": "stream",
     "text": [
      "protein_A\n",
      "protein_B\n"
     ]
    }
   ],
   "source": [
    "dict_1={'protein_A':174,\n",
    "        'protein_B':226}\n",
    "for i in dict_1:\n",
    "    print(i)"
   ]
  },
  {
   "cell_type": "code",
   "execution_count": 65,
   "id": "fe7d12b6",
   "metadata": {},
   "outputs": [],
   "source": [
    "dict_new={'name':'Arya',\n",
    "         'skills':['Python','R programming']}"
   ]
  },
  {
   "cell_type": "code",
   "execution_count": 66,
   "id": "4c572789",
   "metadata": {},
   "outputs": [
    {
     "data": {
      "text/plain": [
       "['Python', 'R programming']"
      ]
     },
     "execution_count": 66,
     "metadata": {},
     "output_type": "execute_result"
    }
   ],
   "source": [
    "dict_new['skills']"
   ]
  }
 ],
 "metadata": {
  "kernelspec": {
   "display_name": "Python 3 (ipykernel)",
   "language": "python",
   "name": "python3"
  },
  "language_info": {
   "codemirror_mode": {
    "name": "ipython",
    "version": 3
   },
   "file_extension": ".py",
   "mimetype": "text/x-python",
   "name": "python",
   "nbconvert_exporter": "python",
   "pygments_lexer": "ipython3",
   "version": "3.7.16"
  }
 },
 "nbformat": 4,
 "nbformat_minor": 5
}
