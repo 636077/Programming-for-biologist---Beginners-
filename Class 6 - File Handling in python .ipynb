{
 "cells": [
  {
   "cell_type": "markdown",
   "id": "afb871a5",
   "metadata": {},
   "source": [
    "# File Handling - 5/06/2024\n",
    "\n",
    "- CREATE a file\n",
    "- READ a file\n",
    "- WRITE a file\n",
    "- APPEND the file\n",
    "- RENAME the file\n",
    "- DELETE the file\n",
    "\n",
    "### Read a new file"
   ]
  },
  {
   "cell_type": "code",
   "execution_count": 1,
   "id": "ecd300b4",
   "metadata": {},
   "outputs": [
    {
     "name": "stdout",
     "output_type": "stream",
     "text": [
      "Hi! I am Arya \n",
      "\n",
      "I learning Python and R programming for my higher studies \n",
      "\n",
      "Nice to meet you. \n"
     ]
    }
   ],
   "source": [
    "file = open(\"file.txt\", \"r\")\n",
    "\n",
    "for line in file:\n",
    "    print(line)"
   ]
  },
  {
   "cell_type": "code",
   "execution_count": 2,
   "id": "0dc963fc",
   "metadata": {},
   "outputs": [
    {
     "name": "stdout",
     "output_type": "stream",
     "text": [
      "Hi! I am Arya \n",
      "I learning Python and R programming for my higher studies \n",
      "Nice to meet you. \n"
     ]
    }
   ],
   "source": [
    "with open(\"file.txt\") as file:\n",
    "    data = file.read()\n",
    "print(data)"
   ]
  },
  {
   "cell_type": "markdown",
   "id": "70f7d45f",
   "metadata": {},
   "source": [
    "### Creating a file\n",
    "\n",
    "    W : open an existing file for a write opertaion.\n",
    "    If the file already contains some data then it will be overridden but if the file is not present then it creates the file as well."
   ]
  },
  {
   "cell_type": "code",
   "execution_count": 3,
   "id": "0fce6701",
   "metadata": {},
   "outputs": [],
   "source": [
    "create_file = open(\"new_file.txt\", \"w\")"
   ]
  },
  {
   "cell_type": "code",
   "execution_count": 4,
   "id": "f4ea1838",
   "metadata": {},
   "outputs": [
    {
     "data": {
      "text/plain": [
       "12"
      ]
     },
     "execution_count": 4,
     "metadata": {},
     "output_type": "execute_result"
    }
   ],
   "source": [
    "create_file.write(\"Hi!\")\n",
    "create_file.write(\"I from India\")"
   ]
  },
  {
   "cell_type": "code",
   "execution_count": 5,
   "id": "89568461",
   "metadata": {},
   "outputs": [
    {
     "data": {
      "text/plain": [
       "12"
      ]
     },
     "execution_count": 5,
     "metadata": {},
     "output_type": "execute_result"
    }
   ],
   "source": [
    "create_file.write(\"Hi!\")\n",
    "create_file.write(\"\\n\")\n",
    "create_file.write(\"I from India\")"
   ]
  },
  {
   "cell_type": "code",
   "execution_count": 6,
   "id": "44e8ef1e",
   "metadata": {},
   "outputs": [],
   "source": [
    "create_file.close()"
   ]
  },
  {
   "cell_type": "code",
   "execution_count": 7,
   "id": "444d0d32",
   "metadata": {},
   "outputs": [
    {
     "name": "stdout",
     "output_type": "stream",
     "text": [
      "Hi!I from IndiaHi!\n",
      "I from India\n"
     ]
    }
   ],
   "source": [
    "with open(\"new_file.txt\") as file:\n",
    "    data = file.read()\n",
    "print(data)"
   ]
  },
  {
   "cell_type": "code",
   "execution_count": 8,
   "id": "d2d73702",
   "metadata": {},
   "outputs": [],
   "source": [
    "gratitude_list = [\"learning\", \"my parents\", \"my friends\", \"good internet coonection\"]\n",
    "\n",
    "gratitude_file = open(\"gratitude.txt\", \"w\")\n",
    "\n",
    "for item in gratitude_list:\n",
    "    gratitude_file.write(\"I am Grateful for {}\".format(item))\n",
    "    gratitude_file.write(\"\\n\")\n",
    "    \n",
    "gratitude_file.close()"
   ]
  },
  {
   "cell_type": "code",
   "execution_count": 9,
   "id": "4e74bbd1",
   "metadata": {},
   "outputs": [],
   "source": [
    "gratitude_file = open(\"gratitude.txt\", \"a\")\n",
    "gratitude_file.write(\"I am also grateful to GOD.\")\n",
    "gratitude_file.close()"
   ]
  },
  {
   "cell_type": "code",
   "execution_count": 10,
   "id": "8553eb0b",
   "metadata": {},
   "outputs": [],
   "source": [
    "create_new_file = open(\"kkk.txt\", \"w\")"
   ]
  },
  {
   "cell_type": "code",
   "execution_count": 11,
   "id": "f48d6958",
   "metadata": {},
   "outputs": [],
   "source": [
    "create_new_file.write(\"Basic Concepts: Read Bioinformatics for Dummies by Jean-Michel Claverie and Cedric Notredame. Explore online resources and tutorials (e.g., Khan Academy, Coursera\")\n",
    "create_new_file.write(\"\\n\")\n",
    "create_new_file.write(\"Basic Biology:Review fundamental concepts in biology: DNA, RNA, proteins, and genetics.Use resources like Molecular Biology of the Cell by Alberts et al. or Khan Academy.Introduction to Databases:Learn about major biological databases: NCBI, EMBL-EBI, and DDBJPractice basic searches and data retrieval.\")\n",
    "create_new_file.close()"
   ]
  },
  {
   "cell_type": "code",
   "execution_count": 41,
   "id": "e2349c0e",
   "metadata": {},
   "outputs": [],
   "source": [
    "import os"
   ]
  },
  {
   "cell_type": "code",
   "execution_count": 13,
   "id": "4dd858bf",
   "metadata": {},
   "outputs": [],
   "source": [
    "os.rename(\"kkk.txt\", \"study_yourself.txt\")"
   ]
  },
  {
   "cell_type": "code",
   "execution_count": 16,
   "id": "e36faed7",
   "metadata": {},
   "outputs": [],
   "source": [
    "create_new_file = open(\"new_new_file.txt\", \"w\")"
   ]
  },
  {
   "cell_type": "code",
   "execution_count": 26,
   "id": "2742ef4c",
   "metadata": {},
   "outputs": [],
   "source": [
    "create_new_file.write(\"Hi!\")\n",
    "create_new_file.write(\"I from India\")\n",
    "create_new_file.close()"
   ]
  },
  {
   "cell_type": "code",
   "execution_count": 27,
   "id": "9ccade67",
   "metadata": {},
   "outputs": [],
   "source": [
    "os.remove = (\"new_new_file.txt\")"
   ]
  },
  {
   "cell_type": "markdown",
   "id": "70663f29",
   "metadata": {},
   "source": [
    "### Copying a file\n",
    "\n",
    "- CREATE a file \"one.txt\" and WRITE your contect in it \n",
    "- CLOSE the file \"two.txt\"\n",
    "- CREATE another file \"two.txt\"\n",
    "- READ the contents of the file \"one.txt\" and WRITE those contents in the file \"two.txt\"\n",
    "- CLOSE both files."
   ]
  },
  {
   "cell_type": "code",
   "execution_count": 32,
   "id": "3293332a",
   "metadata": {},
   "outputs": [],
   "source": [
    "file1 =open(\"one.txt\", \"w\")"
   ]
  },
  {
   "cell_type": "code",
   "execution_count": 33,
   "id": "873877a3",
   "metadata": {},
   "outputs": [],
   "source": [
    "file1.write(\"Thsis is the first file \\n\")\n",
    "file1.close()"
   ]
  },
  {
   "cell_type": "code",
   "execution_count": 43,
   "id": "5f2f04be",
   "metadata": {},
   "outputs": [],
   "source": [
    "file2 = open(\"Two.txt\", \"w\")"
   ]
  },
  {
   "cell_type": "code",
   "execution_count": 44,
   "id": "0fc23c49",
   "metadata": {},
   "outputs": [],
   "source": [
    "file1 = open(\"one.txt\", \"r\")"
   ]
  },
  {
   "cell_type": "code",
   "execution_count": 45,
   "id": "2db4bec4",
   "metadata": {},
   "outputs": [],
   "source": [
    "for line in file1: \n",
    "    file2.write(line)"
   ]
  },
  {
   "cell_type": "code",
   "execution_count": 46,
   "id": "c817a368",
   "metadata": {},
   "outputs": [],
   "source": [
    "file2.close()"
   ]
  },
  {
   "cell_type": "code",
   "execution_count": 52,
   "id": "f7f0e7d7",
   "metadata": {},
   "outputs": [],
   "source": [
    "file1.close()\n",
    "os.remove(\"one.txt\")"
   ]
  },
  {
   "cell_type": "markdown",
   "id": "6f08c12c",
   "metadata": {},
   "source": [
    "### PANDAS "
   ]
  },
  {
   "cell_type": "markdown",
   "id": "9db1322f",
   "metadata": {},
   "source": [
    "##### Importing Pandas"
   ]
  },
  {
   "cell_type": "code",
   "execution_count": 54,
   "id": "79d6aecf",
   "metadata": {},
   "outputs": [
    {
     "name": "stdout",
     "output_type": "stream",
     "text": [
      "Collecting pandas\n",
      "  Downloading pandas-1.3.5-cp37-cp37m-win_amd64.whl (10.0 MB)\n",
      "     ---------------------------------------- 10.0/10.0 MB 7.0 MB/s eta 0:00:00\n",
      "Collecting pytz>=2017.3\n",
      "  Downloading pytz-2024.1-py2.py3-none-any.whl (505 kB)\n",
      "     -------------------------------------- 505.5/505.5 kB 6.3 MB/s eta 0:00:00\n",
      "Requirement already satisfied: numpy>=1.17.3 in c:\\users\\mansi chandra\\.conda\\envs\\pythonclass\\lib\\site-packages (from pandas) (1.21.6)\n",
      "Requirement already satisfied: python-dateutil>=2.7.3 in c:\\users\\mansi chandra\\.conda\\envs\\pythonclass\\lib\\site-packages (from pandas) (2.9.0.post0)\n",
      "Requirement already satisfied: six>=1.5 in c:\\users\\mansi chandra\\.conda\\envs\\pythonclass\\lib\\site-packages (from python-dateutil>=2.7.3->pandas) (1.16.0)\n",
      "Installing collected packages: pytz, pandas\n",
      "Successfully installed pandas-1.3.5 pytz-2024.1\n",
      "Note: you may need to restart the kernel to use updated packages.\n"
     ]
    }
   ],
   "source": [
    "pip install pandas"
   ]
  },
  {
   "cell_type": "code",
   "execution_count": 55,
   "id": "9f3a61f8",
   "metadata": {},
   "outputs": [],
   "source": [
    "import pandas as pd"
   ]
  },
  {
   "cell_type": "code",
   "execution_count": 60,
   "id": "582bbd6e",
   "metadata": {},
   "outputs": [],
   "source": [
    "name = [\"Arya\", \"Binay\", \"Anuradha\", \"Chandra\"]\n",
    "degree = [\"Masters\", \"Masters\", \"Masters\", \"Masters\"]\n",
    "score = [90,95,97,98]\n",
    "\n",
    "#Create a dictionary\n",
    "dictionary = {\"Name\": name, \"Degree\": degree, \"Score\":score}\n",
    "\n",
    "df = pd.DataFrame(dictionary)"
   ]
  },
  {
   "cell_type": "code",
   "execution_count": 61,
   "id": "1b9432df",
   "metadata": {},
   "outputs": [
    {
     "data": {
      "text/html": [
       "<div>\n",
       "<style scoped>\n",
       "    .dataframe tbody tr th:only-of-type {\n",
       "        vertical-align: middle;\n",
       "    }\n",
       "\n",
       "    .dataframe tbody tr th {\n",
       "        vertical-align: top;\n",
       "    }\n",
       "\n",
       "    .dataframe thead th {\n",
       "        text-align: right;\n",
       "    }\n",
       "</style>\n",
       "<table border=\"1\" class=\"dataframe\">\n",
       "  <thead>\n",
       "    <tr style=\"text-align: right;\">\n",
       "      <th></th>\n",
       "      <th>Name</th>\n",
       "      <th>Degree</th>\n",
       "      <th>Score</th>\n",
       "    </tr>\n",
       "  </thead>\n",
       "  <tbody>\n",
       "    <tr>\n",
       "      <th>0</th>\n",
       "      <td>Arya</td>\n",
       "      <td>Masters</td>\n",
       "      <td>90</td>\n",
       "    </tr>\n",
       "    <tr>\n",
       "      <th>1</th>\n",
       "      <td>Binay</td>\n",
       "      <td>Masters</td>\n",
       "      <td>95</td>\n",
       "    </tr>\n",
       "    <tr>\n",
       "      <th>2</th>\n",
       "      <td>Anuradha</td>\n",
       "      <td>Masters</td>\n",
       "      <td>97</td>\n",
       "    </tr>\n",
       "    <tr>\n",
       "      <th>3</th>\n",
       "      <td>Chandra</td>\n",
       "      <td>Masters</td>\n",
       "      <td>98</td>\n",
       "    </tr>\n",
       "  </tbody>\n",
       "</table>\n",
       "</div>"
      ],
      "text/plain": [
       "       Name   Degree  Score\n",
       "0      Arya  Masters     90\n",
       "1     Binay  Masters     95\n",
       "2  Anuradha  Masters     97\n",
       "3   Chandra  Masters     98"
      ]
     },
     "execution_count": 61,
     "metadata": {},
     "output_type": "execute_result"
    }
   ],
   "source": [
    "df"
   ]
  },
  {
   "cell_type": "code",
   "execution_count": 62,
   "id": "855acf7e",
   "metadata": {},
   "outputs": [
    {
     "data": {
      "text/html": [
       "<div>\n",
       "<style scoped>\n",
       "    .dataframe tbody tr th:only-of-type {\n",
       "        vertical-align: middle;\n",
       "    }\n",
       "\n",
       "    .dataframe tbody tr th {\n",
       "        vertical-align: top;\n",
       "    }\n",
       "\n",
       "    .dataframe thead th {\n",
       "        text-align: right;\n",
       "    }\n",
       "</style>\n",
       "<table border=\"1\" class=\"dataframe\">\n",
       "  <thead>\n",
       "    <tr style=\"text-align: right;\">\n",
       "      <th></th>\n",
       "      <th>Name</th>\n",
       "      <th>Degree</th>\n",
       "      <th>Score</th>\n",
       "    </tr>\n",
       "  </thead>\n",
       "  <tbody>\n",
       "    <tr>\n",
       "      <th>0</th>\n",
       "      <td>Arya</td>\n",
       "      <td>Masters</td>\n",
       "      <td>90</td>\n",
       "    </tr>\n",
       "    <tr>\n",
       "      <th>1</th>\n",
       "      <td>Binay</td>\n",
       "      <td>Masters</td>\n",
       "      <td>95</td>\n",
       "    </tr>\n",
       "    <tr>\n",
       "      <th>2</th>\n",
       "      <td>Anuradha</td>\n",
       "      <td>Masters</td>\n",
       "      <td>97</td>\n",
       "    </tr>\n",
       "    <tr>\n",
       "      <th>3</th>\n",
       "      <td>Chandra</td>\n",
       "      <td>Masters</td>\n",
       "      <td>98</td>\n",
       "    </tr>\n",
       "  </tbody>\n",
       "</table>\n",
       "</div>"
      ],
      "text/plain": [
       "       Name   Degree  Score\n",
       "0      Arya  Masters     90\n",
       "1     Binay  Masters     95\n",
       "2  Anuradha  Masters     97\n",
       "3   Chandra  Masters     98"
      ]
     },
     "execution_count": 62,
     "metadata": {},
     "output_type": "execute_result"
    }
   ],
   "source": [
    "df.tail()"
   ]
  },
  {
   "cell_type": "code",
   "execution_count": 63,
   "id": "f97bfd74",
   "metadata": {},
   "outputs": [
    {
     "data": {
      "text/html": [
       "<div>\n",
       "<style scoped>\n",
       "    .dataframe tbody tr th:only-of-type {\n",
       "        vertical-align: middle;\n",
       "    }\n",
       "\n",
       "    .dataframe tbody tr th {\n",
       "        vertical-align: top;\n",
       "    }\n",
       "\n",
       "    .dataframe thead th {\n",
       "        text-align: right;\n",
       "    }\n",
       "</style>\n",
       "<table border=\"1\" class=\"dataframe\">\n",
       "  <thead>\n",
       "    <tr style=\"text-align: right;\">\n",
       "      <th></th>\n",
       "      <th>Name</th>\n",
       "      <th>Degree</th>\n",
       "      <th>Score</th>\n",
       "    </tr>\n",
       "  </thead>\n",
       "  <tbody>\n",
       "    <tr>\n",
       "      <th>0</th>\n",
       "      <td>Arya</td>\n",
       "      <td>Masters</td>\n",
       "      <td>90</td>\n",
       "    </tr>\n",
       "    <tr>\n",
       "      <th>1</th>\n",
       "      <td>Binay</td>\n",
       "      <td>Masters</td>\n",
       "      <td>95</td>\n",
       "    </tr>\n",
       "    <tr>\n",
       "      <th>2</th>\n",
       "      <td>Anuradha</td>\n",
       "      <td>Masters</td>\n",
       "      <td>97</td>\n",
       "    </tr>\n",
       "    <tr>\n",
       "      <th>3</th>\n",
       "      <td>Chandra</td>\n",
       "      <td>Masters</td>\n",
       "      <td>98</td>\n",
       "    </tr>\n",
       "  </tbody>\n",
       "</table>\n",
       "</div>"
      ],
      "text/plain": [
       "       Name   Degree  Score\n",
       "0      Arya  Masters     90\n",
       "1     Binay  Masters     95\n",
       "2  Anuradha  Masters     97\n",
       "3   Chandra  Masters     98"
      ]
     },
     "execution_count": 63,
     "metadata": {},
     "output_type": "execute_result"
    }
   ],
   "source": [
    "df.head()"
   ]
  },
  {
   "cell_type": "code",
   "execution_count": null,
   "id": "2ab472f4",
   "metadata": {},
   "outputs": [],
   "source": [
    "df.to_csv(\"pandas_data.c\")"
   ]
  }
 ],
 "metadata": {
  "kernelspec": {
   "display_name": "Python 3 (ipykernel)",
   "language": "python",
   "name": "python3"
  },
  "language_info": {
   "codemirror_mode": {
    "name": "ipython",
    "version": 3
   },
   "file_extension": ".py",
   "mimetype": "text/x-python",
   "name": "python",
   "nbconvert_exporter": "python",
   "pygments_lexer": "ipython3",
   "version": "3.7.16"
  }
 },
 "nbformat": 4,
 "nbformat_minor": 5
}
