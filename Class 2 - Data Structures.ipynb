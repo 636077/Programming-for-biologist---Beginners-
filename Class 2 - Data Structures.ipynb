{
 "cells": [
  {
   "cell_type": "markdown",
   "id": "a3164b39",
   "metadata": {},
   "source": [
    "### Data Structure 1/06/2024"
   ]
  },
  {
   "cell_type": "markdown",
   "id": "0f0f1e51",
   "metadata": {},
   "source": [
    "#### Lists "
   ]
  },
  {
   "cell_type": "markdown",
   "id": "193791cc",
   "metadata": {},
   "source": [
    "##### Dictionaries "
   ]
  },
  {
   "cell_type": "markdown",
   "id": "3751c3e2",
   "metadata": {},
   "source": [
    "##### What is List ?\n",
    " Lists are data structures that contain an ordered collection of elements.\n",
    "\n",
    "##### Why do we use Lists?\n",
    "Lists are commonly used in programming to store and orgainse data so it can be easily stored, indexed or searched.\n",
    "\n",
    "### Creating a List"
   ]
  },
  {
   "cell_type": "code",
   "execution_count": 3,
   "id": "c1549ebf",
   "metadata": {},
   "outputs": [
    {
     "name": "stdout",
     "output_type": "stream",
     "text": [
      "[3, 6, 19]\n"
     ]
    }
   ],
   "source": [
    "list_1=[3,6,19]\n",
    "print(list_1)"
   ]
  },
  {
   "cell_type": "markdown",
   "id": "21069a00",
   "metadata": {},
   "source": [
    "### Adding an item to a List "
   ]
  },
  {
   "cell_type": "code",
   "execution_count": 4,
   "id": "eb42acb0",
   "metadata": {},
   "outputs": [
    {
     "name": "stdout",
     "output_type": "stream",
     "text": [
      "[3, 6, 19, 25]\n"
     ]
    }
   ],
   "source": [
    "list_1.append(25)\n",
    "print(list_1)"
   ]
  },
  {
   "cell_type": "markdown",
   "id": "75f8ed89",
   "metadata": {},
   "source": [
    "### Changing an item in a List "
   ]
  },
  {
   "cell_type": "code",
   "execution_count": 6,
   "id": "297aaab5",
   "metadata": {},
   "outputs": [
    {
     "name": "stdout",
     "output_type": "stream",
     "text": [
      "[3, 12, 19, 25]\n"
     ]
    }
   ],
   "source": [
    "list_1[1]=12\n",
    "print(list_1)"
   ]
  },
  {
   "cell_type": "markdown",
   "id": "21032e73",
   "metadata": {},
   "source": [
    "on the above code if used curvy brakets you will get an error - just try \n",
    "list_1(1)=12\n",
    "print(list_1)\n",
    "try "
   ]
  },
  {
   "cell_type": "markdown",
   "id": "01718db3",
   "metadata": {},
   "source": [
    "### Storing different data type in a List"
   ]
  },
  {
   "cell_type": "code",
   "execution_count": 7,
   "id": "4bdc4e17",
   "metadata": {},
   "outputs": [
    {
     "name": "stdout",
     "output_type": "stream",
     "text": [
      "['Arya', 39, 2024, 4.9]\n"
     ]
    }
   ],
   "source": [
    "list_2=[\"Arya\",39,2024,4.9]\n",
    "print(list_2)"
   ]
  },
  {
   "cell_type": "markdown",
   "id": "a1866a3f",
   "metadata": {},
   "source": [
    "### Removing an item from a List "
   ]
  },
  {
   "cell_type": "code",
   "execution_count": 8,
   "id": "b599dca2",
   "metadata": {},
   "outputs": [
    {
     "name": "stdout",
     "output_type": "stream",
     "text": [
      "['Arya', 2024, 4.9]\n"
     ]
    }
   ],
   "source": [
    "list_2.remove(39)\n",
    "print(list_2)"
   ]
  },
  {
   "cell_type": "code",
   "execution_count": 10,
   "id": "c6c34cb6",
   "metadata": {},
   "outputs": [
    {
     "name": "stdout",
     "output_type": "stream",
     "text": [
      "['Arya', 2024]\n"
     ]
    }
   ],
   "source": [
    "list_2.pop(2)\n",
    "print(list_2)"
   ]
  },
  {
   "cell_type": "markdown",
   "id": "5699ee98",
   "metadata": {},
   "source": [
    "### Merging two Lists"
   ]
  },
  {
   "cell_type": "code",
   "execution_count": 11,
   "id": "579597b3",
   "metadata": {},
   "outputs": [
    {
     "name": "stdout",
     "output_type": "stream",
     "text": [
      "[3, 12, 19, 25, ['Arya', 2024]]\n"
     ]
    }
   ],
   "source": [
    "list_1.append(list_2)\n",
    "print(list_1)"
   ]
  },
  {
   "cell_type": "markdown",
   "id": "51a25088",
   "metadata": {},
   "source": [
    "### Accessing items in a List"
   ]
  },
  {
   "cell_type": "code",
   "execution_count": 13,
   "id": "193be436",
   "metadata": {},
   "outputs": [
    {
     "data": {
      "text/plain": [
       "3"
      ]
     },
     "execution_count": 13,
     "metadata": {},
     "output_type": "execute_result"
    }
   ],
   "source": [
    "list_1[0]"
   ]
  },
  {
   "cell_type": "code",
   "execution_count": 14,
   "id": "f73ce43c",
   "metadata": {},
   "outputs": [
    {
     "data": {
      "text/plain": [
       "[3, 12, 19]"
      ]
     },
     "execution_count": 14,
     "metadata": {},
     "output_type": "execute_result"
    }
   ],
   "source": [
    "list_1[0:3]"
   ]
  },
  {
   "cell_type": "code",
   "execution_count": 15,
   "id": "ff674fad",
   "metadata": {},
   "outputs": [
    {
     "data": {
      "text/plain": [
       "[3, 12, 19]"
      ]
     },
     "execution_count": 15,
     "metadata": {},
     "output_type": "execute_result"
    }
   ],
   "source": [
    "list_1[:3]"
   ]
  },
  {
   "cell_type": "code",
   "execution_count": 16,
   "id": "0977d7b0",
   "metadata": {},
   "outputs": [
    {
     "data": {
      "text/plain": [
       "[12, 19, 25, ['Arya', 2024]]"
      ]
     },
     "execution_count": 16,
     "metadata": {},
     "output_type": "execute_result"
    }
   ],
   "source": [
    "list_1[1:]"
   ]
  },
  {
   "cell_type": "code",
   "execution_count": 17,
   "id": "5ac5422f",
   "metadata": {},
   "outputs": [
    {
     "data": {
      "text/plain": [
       "['Arya', 2024]"
      ]
     },
     "execution_count": 17,
     "metadata": {},
     "output_type": "execute_result"
    }
   ],
   "source": [
    "list_1[4]"
   ]
  },
  {
   "cell_type": "code",
   "execution_count": 18,
   "id": "37c5b25a",
   "metadata": {},
   "outputs": [
    {
     "data": {
      "text/plain": [
       "range(0, 10)"
      ]
     },
     "execution_count": 18,
     "metadata": {},
     "output_type": "execute_result"
    }
   ],
   "source": [
    "range(0,10)"
   ]
  },
  {
   "cell_type": "code",
   "execution_count": 20,
   "id": "88d11e54",
   "metadata": {},
   "outputs": [
    {
     "name": "stdout",
     "output_type": "stream",
     "text": [
      "0\n",
      "1\n",
      "2\n",
      "3\n",
      "4\n",
      "5\n",
      "6\n",
      "7\n",
      "8\n",
      "9\n",
      "10\n"
     ]
    }
   ],
   "source": [
    "for i in range(11):\n",
    "    print(i)"
   ]
  },
  {
   "cell_type": "code",
   "execution_count": 23,
   "id": "eda92504",
   "metadata": {},
   "outputs": [],
   "source": [
    "list_1=[3,6,19]"
   ]
  },
  {
   "cell_type": "code",
   "execution_count": 30,
   "id": "adfcc69a",
   "metadata": {},
   "outputs": [
    {
     "name": "stdout",
     "output_type": "stream",
     "text": [
      "[3, 6, 19]\n"
     ]
    }
   ],
   "source": [
    "for i in [list_1]:\n",
    "    print(i)"
   ]
  },
  {
   "cell_type": "code",
   "execution_count": 32,
   "id": "6fbcde5a",
   "metadata": {},
   "outputs": [
    {
     "name": "stdout",
     "output_type": "stream",
     "text": [
      "[9, 36, 361]\n"
     ]
    }
   ],
   "source": [
    "list_3=[i*i for i in list_1]\n",
    "print(list_3)"
   ]
  },
  {
   "cell_type": "markdown",
   "id": "9f8de87d",
   "metadata": {},
   "source": [
    "### Another way of creating a list "
   ]
  },
  {
   "cell_type": "code",
   "execution_count": 33,
   "id": "4b7bb2ea",
   "metadata": {},
   "outputs": [
    {
     "name": "stdout",
     "output_type": "stream",
     "text": [
      "[]\n"
     ]
    }
   ],
   "source": [
    "list_4=list()\n",
    "print(list_4)"
   ]
  },
  {
   "cell_type": "code",
   "execution_count": 34,
   "id": "da5a0cee",
   "metadata": {},
   "outputs": [
    {
     "name": "stdout",
     "output_type": "stream",
     "text": [
      "9\n",
      "36\n",
      "361\n"
     ]
    }
   ],
   "source": [
    "for i in (list_1):\n",
    "    print(i*i)"
   ]
  },
  {
   "cell_type": "code",
   "execution_count": 37,
   "id": "e0a35382",
   "metadata": {},
   "outputs": [
    {
     "data": {
      "text/plain": [
       "[9, 36, 361, 9, 36, 361, 9, 36, 361]"
      ]
     },
     "execution_count": 37,
     "metadata": {},
     "output_type": "execute_result"
    }
   ],
   "source": [
    "for i in list_1:\n",
    "    list_4.append(i*i)\n",
    "list_4"
   ]
  },
  {
   "cell_type": "markdown",
   "id": "351227d0",
   "metadata": {},
   "source": [
    "### Check if key exixts in a List"
   ]
  },
  {
   "cell_type": "code",
   "execution_count": 61,
   "id": "e83c445a",
   "metadata": {},
   "outputs": [
    {
     "name": "stdout",
     "output_type": "stream",
     "text": [
      "yes\n"
     ]
    }
   ],
   "source": [
    "if 36 in list_4:\n",
    "    print(\"yes\")"
   ]
  },
  {
   "cell_type": "markdown",
   "id": "bd3c08d5",
   "metadata": {},
   "source": [
    "### Dictionaries "
   ]
  },
  {
   "cell_type": "markdown",
   "id": "e6f90d3b",
   "metadata": {},
   "source": [
    "#### What is a Dictionary ?\n",
    "Dictionaries are data structures that contain a collection of \"key\" and \"value\" pairs where each key reads to be unique string and the value can range from a single variable, to other data structures (such as another dictionary, or a list)."
   ]
  },
  {
   "cell_type": "markdown",
   "id": "91b2152d",
   "metadata": {},
   "source": [
    "### Creating a Dictionary \n",
    "There are two ways to create an empty dictionary my_dict() or my_dict={}. The following example illustrates how to create a dictionary with keys and values.."
   ]
  },
  {
   "cell_type": "code",
   "execution_count": 38,
   "id": "037670d3",
   "metadata": {},
   "outputs": [],
   "source": [
    "dict_1={'protein_A':174,\n",
    "       'protein_B':226}"
   ]
  },
  {
   "cell_type": "code",
   "execution_count": 39,
   "id": "d30eb400",
   "metadata": {},
   "outputs": [
    {
     "data": {
      "text/plain": [
       "{'protein_A': 174, 'protein_B': 226}"
      ]
     },
     "execution_count": 39,
     "metadata": {},
     "output_type": "execute_result"
    }
   ],
   "source": [
    "dict_1"
   ]
  },
  {
   "cell_type": "code",
   "execution_count": 40,
   "id": "96ef4f28",
   "metadata": {},
   "outputs": [],
   "source": [
    "dict_2=dict(protein_A=174, protein_B=226)"
   ]
  },
  {
   "cell_type": "code",
   "execution_count": 41,
   "id": "8f83f1fc",
   "metadata": {},
   "outputs": [
    {
     "data": {
      "text/plain": [
       "{'protein_A': 174, 'protein_B': 226}"
      ]
     },
     "execution_count": 41,
     "metadata": {},
     "output_type": "execute_result"
    }
   ],
   "source": [
    "dict_2"
   ]
  },
  {
   "cell_type": "markdown",
   "id": "934e969e",
   "metadata": {},
   "source": [
    "### Adding items to adictionary "
   ]
  },
  {
   "cell_type": "code",
   "execution_count": 42,
   "id": "4df80f2b",
   "metadata": {},
   "outputs": [],
   "source": [
    "dict_1['protein_c']=556"
   ]
  },
  {
   "cell_type": "code",
   "execution_count": 43,
   "id": "e950c13b",
   "metadata": {},
   "outputs": [
    {
     "data": {
      "text/plain": [
       "{'protein_A': 174, 'protein_B': 226, 'protein_c': 556}"
      ]
     },
     "execution_count": 43,
     "metadata": {},
     "output_type": "execute_result"
    }
   ],
   "source": [
    "dict_1"
   ]
  },
  {
   "cell_type": "code",
   "execution_count": 44,
   "id": "65c9b56e",
   "metadata": {},
   "outputs": [
    {
     "data": {
      "text/plain": [
       "556"
      ]
     },
     "execution_count": 44,
     "metadata": {},
     "output_type": "execute_result"
    }
   ],
   "source": [
    "dict_1['protein_c']"
   ]
  },
  {
   "cell_type": "markdown",
   "id": "2703757d",
   "metadata": {},
   "source": [
    "### Removing items from a Dictionary"
   ]
  },
  {
   "cell_type": "code",
   "execution_count": 45,
   "id": "04258e63",
   "metadata": {},
   "outputs": [
    {
     "data": {
      "text/plain": [
       "556"
      ]
     },
     "execution_count": 45,
     "metadata": {},
     "output_type": "execute_result"
    }
   ],
   "source": [
    "dict_1.pop('protein_c')"
   ]
  },
  {
   "cell_type": "code",
   "execution_count": 46,
   "id": "3fe0e17e",
   "metadata": {},
   "outputs": [
    {
     "data": {
      "text/plain": [
       "{'protein_A': 174, 'protein_B': 226}"
      ]
     },
     "execution_count": 46,
     "metadata": {},
     "output_type": "execute_result"
    }
   ],
   "source": [
    "dict_1"
   ]
  },
  {
   "cell_type": "markdown",
   "id": "7a5e3b2f",
   "metadata": {},
   "source": [
    "### Accessing items in a Dictionary"
   ]
  },
  {
   "cell_type": "code",
   "execution_count": 47,
   "id": "6f38cdfd",
   "metadata": {},
   "outputs": [
    {
     "data": {
      "text/plain": [
       "174"
      ]
     },
     "execution_count": 47,
     "metadata": {},
     "output_type": "execute_result"
    }
   ],
   "source": [
    "dict_1['protein_A']"
   ]
  },
  {
   "cell_type": "code",
   "execution_count": 48,
   "id": "b068b651",
   "metadata": {},
   "outputs": [
    {
     "data": {
      "text/plain": [
       "174"
      ]
     },
     "execution_count": 48,
     "metadata": {},
     "output_type": "execute_result"
    }
   ],
   "source": [
    "dict_1.get('protein_A')"
   ]
  },
  {
   "cell_type": "code",
   "execution_count": 49,
   "id": "68c9bade",
   "metadata": {},
   "outputs": [
    {
     "data": {
      "text/plain": [
       "dict_values([174, 226])"
      ]
     },
     "execution_count": 49,
     "metadata": {},
     "output_type": "execute_result"
    }
   ],
   "source": [
    "dict_1.values()"
   ]
  },
  {
   "cell_type": "code",
   "execution_count": 50,
   "id": "96a0bcc0",
   "metadata": {},
   "outputs": [
    {
     "data": {
      "text/plain": [
       "{'protein_A': 174, 'protein_B': 226}"
      ]
     },
     "execution_count": 50,
     "metadata": {},
     "output_type": "execute_result"
    }
   ],
   "source": [
    "dict_1.copy()"
   ]
  },
  {
   "cell_type": "code",
   "execution_count": 52,
   "id": "10315c25",
   "metadata": {},
   "outputs": [
    {
     "data": {
      "text/plain": [
       "dict_items([('protein_A', 174), ('protein_B', 226)])"
      ]
     },
     "execution_count": 52,
     "metadata": {},
     "output_type": "execute_result"
    }
   ],
   "source": [
    "dict_1.items()\n"
   ]
  },
  {
   "cell_type": "code",
   "execution_count": 54,
   "id": "69f0c41d",
   "metadata": {},
   "outputs": [
    {
     "data": {
      "text/plain": [
       "{'protein_A': 174, 'protein_B': 226, 'protein_c': 556}"
      ]
     },
     "execution_count": 54,
     "metadata": {},
     "output_type": "execute_result"
    }
   ],
   "source": [
    "dict_1['protein_c']=556\n",
    "dict_1"
   ]
  },
  {
   "cell_type": "code",
   "execution_count": 55,
   "id": "182e5a4b",
   "metadata": {},
   "outputs": [
    {
     "data": {
      "text/plain": [
       "dict_keys(['protein_A', 'protein_B', 'protein_c'])"
      ]
     },
     "execution_count": 55,
     "metadata": {},
     "output_type": "execute_result"
    }
   ],
   "source": [
    "dict_1.keys()"
   ]
  },
  {
   "cell_type": "markdown",
   "id": "a97c81d2",
   "metadata": {},
   "source": [
    "### Check if keys exists in a Dictionary"
   ]
  },
  {
   "cell_type": "code",
   "execution_count": 57,
   "id": "a17529e1",
   "metadata": {},
   "outputs": [
    {
     "name": "stdout",
     "output_type": "stream",
     "text": [
      "Yes protein_A is in the Dictionary\n"
     ]
    }
   ],
   "source": [
    "if 'protein_A' in dict_1:\n",
    "    print(\"Yes protein_A is in the Dictionary\")"
   ]
  },
  {
   "cell_type": "code",
   "execution_count": 59,
   "id": "ec6b1a55",
   "metadata": {},
   "outputs": [
    {
     "name": "stdout",
     "output_type": "stream",
     "text": [
      "Yes protein_B is in the Dictionary\n"
     ]
    }
   ],
   "source": [
    "if 'protein_B' in dict_1:\n",
    "    print(\"Yes protein_B is in the Dictionary\")\n",
    "else:\n",
    "    print(\"No protein_B is not in the Dictionary\")"
   ]
  },
  {
   "cell_type": "code",
   "execution_count": 60,
   "id": "f7277936",
   "metadata": {},
   "outputs": [
    {
     "name": "stdout",
     "output_type": "stream",
     "text": [
      "No protein_D is not in the Dictionary\n"
     ]
    }
   ],
   "source": [
    "if 'protein_D' in dict_1:\n",
    "    print(\"Yes protein_D is in the Dictionary\")\n",
    "else:\n",
    "    print(\"No protein_D is not in the Dictionary\")"
   ]
  },
  {
   "cell_type": "markdown",
   "id": "e68af8d3",
   "metadata": {},
   "source": [
    "### Exercise"
   ]
  },
  {
   "cell_type": "markdown",
   "id": "c1cc611f",
   "metadata": {},
   "source": [
    " protein_A and Protein_B , 174 and 226 respectively.. suppose i want to subtract 100 from each, protein A will 74 and protein B will be 126."
   ]
  }
 ],
 "metadata": {
  "kernelspec": {
   "display_name": "Python 3 (ipykernel)",
   "language": "python",
   "name": "python3"
  },
  "language_info": {
   "codemirror_mode": {
    "name": "ipython",
    "version": 3
   },
   "file_extension": ".py",
   "mimetype": "text/x-python",
   "name": "python",
   "nbconvert_exporter": "python",
   "pygments_lexer": "ipython3",
   "version": "3.7.16"
  }
 },
 "nbformat": 4,
 "nbformat_minor": 5
}
